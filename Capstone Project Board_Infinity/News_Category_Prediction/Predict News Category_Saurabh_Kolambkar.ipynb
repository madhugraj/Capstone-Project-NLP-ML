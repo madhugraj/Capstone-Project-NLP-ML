{
 "cells": [
  {
   "cell_type": "markdown",
   "metadata": {},
   "source": [
    "From the beginning, since the first printed newspaper, every news that makes into a page has had a specific section allotted to it. Although pretty much everything changed in newspapers from the ink to the type of paper used, this proper categorization of news was carried over by generations and even to the digital versions of the newspaper. Newspaper articles are not limited to a few topics or subjects, it covers a wide range of interests from politics to sports to movies and so on. For long, this process of sectioning was done manually by people but now technology can do it without much effort. In this hackathon, Data Science and Machine Learning enthusiasts like you will use Natural Language Processing to predict which genre or category a piece of news will fall in to from the story."
   ]
  },
  {
   "cell_type": "markdown",
   "metadata": {},
   "source": [
    "# FEATURES:\n",
    "\n",
    "## STORY:  A part of the main content of the article to be published as a piece of news.\n",
    "## SECTION: The genre/category the STORY falls in.\n",
    "\n",
    "There are four distinct sections where each story may fall in to. The Sections are labelled as follows :\n",
    "\n",
    "* Politics: 0\n",
    "* Technology: 1\n",
    "* Entertainment: 2\n",
    "* Business: 3"
   ]
  },
  {
   "cell_type": "code",
   "execution_count": 1,
   "metadata": {},
   "outputs": [],
   "source": [
    "import pandas as pd\n",
    "import numpy as np\n",
    "import matplotlib.pyplot as plt \n",
    "import os\n",
    "import nltk\n",
    "import nltk.corpus\n",
    "from nltk.tokenize import word_tokenize\n",
    "from nltk.probability import FreqDist\n",
    "from nltk.corpus import stopwords\n",
    "from nltk.stem import LancasterStemmer\n",
    "from nltk import word_tokenize, pos_tag, pos_tag_sents\n",
    "import string\n",
    "from sklearn.model_selection import train_test_split, cross_val_score\n",
    "from sklearn.model_selection import GridSearchCV\n",
    "from sklearn.ensemble import RandomForestClassifier\n",
    "from sklearn.metrics import accuracy_score\n",
    "from sklearn.metrics import classification_report\n",
    "from sklearn.metrics import confusion_matrix\n",
    "from sklearn.feature_extraction.text import TfidfTransformer\n",
    "from sklearn.feature_extraction.text import TfidfVectorizer\n",
    "from sklearn.feature_extraction.text import CountVectorizer \n",
    "from sklearn.model_selection import train_test_split \n",
    "from sklearn.metrics import classification_report \n",
    "from sklearn.metrics import confusion_matrix\n",
    "from sklearn.metrics import f1_score\n",
    "from sklearn.linear_model import LogisticRegression\n",
    "from sklearn.neighbors import KNeighborsClassifier\n",
    "from sklearn.svm import LinearSVC\n",
    "%matplotlib inline \n",
    "import warnings\n",
    "warnings.filterwarnings('ignore')"
   ]
  },
  {
   "cell_type": "code",
   "execution_count": 2,
   "metadata": {},
   "outputs": [],
   "source": [
    "df = pd.read_csv(\"TrainDataset.csv\")\n",
    "df_predict = pd.read_csv(\"TestDataset.csv\")"
   ]
  },
  {
   "cell_type": "code",
   "execution_count": 3,
   "metadata": {},
   "outputs": [
    {
     "data": {
      "text/html": [
       "<div>\n",
       "<style scoped>\n",
       "    .dataframe tbody tr th:only-of-type {\n",
       "        vertical-align: middle;\n",
       "    }\n",
       "\n",
       "    .dataframe tbody tr th {\n",
       "        vertical-align: top;\n",
       "    }\n",
       "\n",
       "    .dataframe thead th {\n",
       "        text-align: right;\n",
       "    }\n",
       "</style>\n",
       "<table border=\"1\" class=\"dataframe\">\n",
       "  <thead>\n",
       "    <tr style=\"text-align: right;\">\n",
       "      <th></th>\n",
       "      <th>STORY</th>\n",
       "      <th>SECTION</th>\n",
       "    </tr>\n",
       "  </thead>\n",
       "  <tbody>\n",
       "    <tr>\n",
       "      <td>0</td>\n",
       "      <td>The roadshow and the filing of nomination pape...</td>\n",
       "      <td>0</td>\n",
       "    </tr>\n",
       "    <tr>\n",
       "      <td>1</td>\n",
       "      <td>These vulnerabilities could have allowed hacke...</td>\n",
       "      <td>1</td>\n",
       "    </tr>\n",
       "    <tr>\n",
       "      <td>2</td>\n",
       "      <td>\"People will now be able to include music in t...</td>\n",
       "      <td>1</td>\n",
       "    </tr>\n",
       "    <tr>\n",
       "      <td>3</td>\n",
       "      <td>Jersey is expected to have a good start at the...</td>\n",
       "      <td>2</td>\n",
       "    </tr>\n",
       "    <tr>\n",
       "      <td>4</td>\n",
       "      <td>Xiaomi’s unveiling also hints at how Samsung i...</td>\n",
       "      <td>1</td>\n",
       "    </tr>\n",
       "    <tr>\n",
       "      <td>5</td>\n",
       "      <td>Analysts at Edelweiss Securities Ltd point out...</td>\n",
       "      <td>3</td>\n",
       "    </tr>\n",
       "    <tr>\n",
       "      <td>6</td>\n",
       "      <td>The directorial debut of Prithviraj Sukumaran ...</td>\n",
       "      <td>2</td>\n",
       "    </tr>\n",
       "    <tr>\n",
       "      <td>7</td>\n",
       "      <td>Chrome is the most popular web browser, with a...</td>\n",
       "      <td>1</td>\n",
       "    </tr>\n",
       "    <tr>\n",
       "      <td>8</td>\n",
       "      <td>\"Maruti saw a sudden turn in its stock price a...</td>\n",
       "      <td>3</td>\n",
       "    </tr>\n",
       "    <tr>\n",
       "      <td>9</td>\n",
       "      <td>Centrum has also raised TCS target prices high...</td>\n",
       "      <td>3</td>\n",
       "    </tr>\n",
       "  </tbody>\n",
       "</table>\n",
       "</div>"
      ],
      "text/plain": [
       "                                               STORY  SECTION\n",
       "0  The roadshow and the filing of nomination pape...        0\n",
       "1  These vulnerabilities could have allowed hacke...        1\n",
       "2  \"People will now be able to include music in t...        1\n",
       "3  Jersey is expected to have a good start at the...        2\n",
       "4  Xiaomi’s unveiling also hints at how Samsung i...        1\n",
       "5  Analysts at Edelweiss Securities Ltd point out...        3\n",
       "6  The directorial debut of Prithviraj Sukumaran ...        2\n",
       "7  Chrome is the most popular web browser, with a...        1\n",
       "8  \"Maruti saw a sudden turn in its stock price a...        3\n",
       "9  Centrum has also raised TCS target prices high...        3"
      ]
     },
     "execution_count": 3,
     "metadata": {},
     "output_type": "execute_result"
    }
   ],
   "source": [
    "df.head(10)"
   ]
  },
  {
   "cell_type": "code",
   "execution_count": 62,
   "metadata": {},
   "outputs": [
    {
     "data": {
      "text/html": [
       "<div>\n",
       "<style scoped>\n",
       "    .dataframe tbody tr th:only-of-type {\n",
       "        vertical-align: middle;\n",
       "    }\n",
       "\n",
       "    .dataframe tbody tr th {\n",
       "        vertical-align: top;\n",
       "    }\n",
       "\n",
       "    .dataframe thead th {\n",
       "        text-align: right;\n",
       "    }\n",
       "</style>\n",
       "<table border=\"1\" class=\"dataframe\">\n",
       "  <thead>\n",
       "    <tr style=\"text-align: right;\">\n",
       "      <th></th>\n",
       "      <th>STORY</th>\n",
       "    </tr>\n",
       "  </thead>\n",
       "  <tbody>\n",
       "    <tr>\n",
       "      <td>0</td>\n",
       "      <td>Privileged to have done this candid and COMPLE...</td>\n",
       "    </tr>\n",
       "    <tr>\n",
       "      <td>1</td>\n",
       "      <td>6) Some analysts expect volatility to remain h...</td>\n",
       "    </tr>\n",
       "    <tr>\n",
       "      <td>2</td>\n",
       "      <td>There is no stopping Marvel Cinematic Universe...</td>\n",
       "    </tr>\n",
       "    <tr>\n",
       "      <td>3</td>\n",
       "      <td>According to Ravi Menon, analyst at Elara Secu...</td>\n",
       "    </tr>\n",
       "    <tr>\n",
       "      <td>4</td>\n",
       "      <td>A complaint against Nadiadwala, known for prod...</td>\n",
       "    </tr>\n",
       "    <tr>\n",
       "      <td>5</td>\n",
       "      <td>”The yet-to-be-titled movie marks Mahesh’s 26t...</td>\n",
       "    </tr>\n",
       "    <tr>\n",
       "      <td>6</td>\n",
       "      <td>Gandhi, also in Raichur with former PM H.D.Dev...</td>\n",
       "    </tr>\n",
       "    <tr>\n",
       "      <td>7</td>\n",
       "      <td>It’s clear that at the heart of this inspiring...</td>\n",
       "    </tr>\n",
       "    <tr>\n",
       "      <td>8</td>\n",
       "      <td>Other features of the Realme 3 include a tripl...</td>\n",
       "    </tr>\n",
       "    <tr>\n",
       "      <td>9</td>\n",
       "      <td>The couple’s lawyers had asked for a bifurcate...</td>\n",
       "    </tr>\n",
       "  </tbody>\n",
       "</table>\n",
       "</div>"
      ],
      "text/plain": [
       "                                               STORY\n",
       "0  Privileged to have done this candid and COMPLE...\n",
       "1  6) Some analysts expect volatility to remain h...\n",
       "2  There is no stopping Marvel Cinematic Universe...\n",
       "3  According to Ravi Menon, analyst at Elara Secu...\n",
       "4  A complaint against Nadiadwala, known for prod...\n",
       "5  ”The yet-to-be-titled movie marks Mahesh’s 26t...\n",
       "6  Gandhi, also in Raichur with former PM H.D.Dev...\n",
       "7  It’s clear that at the heart of this inspiring...\n",
       "8  Other features of the Realme 3 include a tripl...\n",
       "9  The couple’s lawyers had asked for a bifurcate..."
      ]
     },
     "execution_count": 62,
     "metadata": {},
     "output_type": "execute_result"
    }
   ],
   "source": [
    "df_predict.head(10)"
   ]
  },
  {
   "cell_type": "code",
   "execution_count": 64,
   "metadata": {},
   "outputs": [
    {
     "data": {
      "text/plain": [
       "STORY    1526\n",
       "dtype: int64"
      ]
     },
     "execution_count": 64,
     "metadata": {},
     "output_type": "execute_result"
    }
   ],
   "source": [
    "df_predict.count()"
   ]
  },
  {
   "cell_type": "code",
   "execution_count": 5,
   "metadata": {},
   "outputs": [
    {
     "data": {
      "text/plain": [
       "STORY      6102\n",
       "SECTION    6102\n",
       "dtype: int64"
      ]
     },
     "execution_count": 5,
     "metadata": {},
     "output_type": "execute_result"
    }
   ],
   "source": [
    "df.count()"
   ]
  },
  {
   "cell_type": "code",
   "execution_count": 6,
   "metadata": {},
   "outputs": [
    {
     "data": {
      "text/plain": [
       "STORY      0\n",
       "SECTION    0\n",
       "dtype: int64"
      ]
     },
     "execution_count": 6,
     "metadata": {},
     "output_type": "execute_result"
    }
   ],
   "source": [
    "df.isnull().sum()"
   ]
  },
  {
   "cell_type": "code",
   "execution_count": 7,
   "metadata": {},
   "outputs": [
    {
     "data": {
      "text/plain": [
       "STORY    0\n",
       "dtype: int64"
      ]
     },
     "execution_count": 7,
     "metadata": {},
     "output_type": "execute_result"
    }
   ],
   "source": [
    "df_predict.isnull().sum()"
   ]
  },
  {
   "cell_type": "code",
   "execution_count": 8,
   "metadata": {},
   "outputs": [
    {
     "name": "stdout",
     "output_type": "stream",
     "text": [
      "total categories: 4\n",
      "SECTION\n",
      "0    1341\n",
      "1    2224\n",
      "2    1524\n",
      "3    1013\n",
      "dtype: int64\n"
     ]
    }
   ],
   "source": [
    "section_count = df.groupby('SECTION')\n",
    "print(\"total categories:\", section_count.ngroups)\n",
    "print(section_count.size())"
   ]
  },
  {
   "cell_type": "markdown",
   "metadata": {},
   "source": [
    "As we see here, \n",
    "1. Political: 1341\n",
    "2. Technology: 2224\n",
    "3. Entertainment: 1524\n",
    "4. Business: 1013"
   ]
  },
  {
   "cell_type": "code",
   "execution_count": 9,
   "metadata": {
    "scrolled": false
   },
   "outputs": [
    {
     "data": {
      "image/png": "[encoded data removed]",
      "text/plain": [
       "<Figure size 720x504 with 1 Axes>"
      ]
     },
     "metadata": {
      "needs_background": "light"
     },
     "output_type": "display_data"
    }
   ],
   "source": [
    "plt.figure(figsize=(10,7))\n",
    "cmapper = ['b', 'g', 'r', 'c']\n",
    "bars = ('Technology', 'Entertainment', 'Political', 'Business')\n",
    "y_pos = np.arange(len(bars))\n",
    "df['SECTION'].value_counts().sort_values(ascending=False).plot.bar(color=cmapper)\n",
    "plt.xticks(rotation=50)\n",
    "plt.xlabel(\"Category of News\")\n",
    "plt.ylabel(\"Number of Articles\")\n",
    "plt.xticks(y_pos, bars)\n",
    "plt.show()"
   ]
  },
  {
   "cell_type": "code",
   "execution_count": 10,
   "metadata": {},
   "outputs": [
    {
     "data": {
      "text/plain": [
       "pandas.core.frame.DataFrame"
      ]
     },
     "execution_count": 10,
     "metadata": {},
     "output_type": "execute_result"
    }
   ],
   "source": [
    "type(df)"
   ]
  },
  {
   "cell_type": "markdown",
   "metadata": {},
   "source": [
    "## Pre-processing"
   ]
  },
  {
   "cell_type": "markdown",
   "metadata": {},
   "source": [
    "##### Finding Out word Count of each row and calculating average depeding on the category of news"
   ]
  },
  {
   "cell_type": "code",
   "execution_count": 11,
   "metadata": {},
   "outputs": [],
   "source": [
    "df['TotalWords'] = df['STORY'].apply(lambda x: len(str(x).split(\" \")))"
   ]
  },
  {
   "cell_type": "code",
   "execution_count": 12,
   "metadata": {},
   "outputs": [
    {
     "data": {
      "text/plain": [
       "0       152\n",
       "1       176\n",
       "2        92\n",
       "3        34\n",
       "4       124\n",
       "       ... \n",
       "6097     33\n",
       "6098    121\n",
       "6099     23\n",
       "6100     44\n",
       "6101    223\n",
       "Name: TotalWords, Length: 6102, dtype: int64"
      ]
     },
     "execution_count": 12,
     "metadata": {},
     "output_type": "execute_result"
    }
   ],
   "source": [
    "df['TotalWords']"
   ]
  },
  {
   "cell_type": "code",
   "execution_count": 13,
   "metadata": {},
   "outputs": [],
   "source": [
    "avg_word_count = df.groupby('SECTION')['TotalWords'].mean()"
   ]
  },
  {
   "cell_type": "code",
   "execution_count": 14,
   "metadata": {},
   "outputs": [
    {
     "data": {
      "text/plain": [
       "SECTION\n",
       "0    143.903803\n",
       "1    117.781475\n",
       "2     60.672572\n",
       "3     97.822310\n",
       "Name: TotalWords, dtype: float64"
      ]
     },
     "execution_count": 14,
     "metadata": {},
     "output_type": "execute_result"
    }
   ],
   "source": [
    "avg_word_count"
   ]
  },
  {
   "cell_type": "code",
   "execution_count": 15,
   "metadata": {},
   "outputs": [
    {
     "data": {
      "image/png": "[encoded data removed]",
      "text/plain": [
       "<Figure size 432x288 with 1 Axes>"
      ]
     },
     "metadata": {},
     "output_type": "display_data"
    }
   ],
   "source": [
    "labels = 'Politics', 'Technology', 'Entertainment', 'Business'\n",
    "sizes = avg_word_count\n",
    "theme = plt.get_cmap('bwr')\n",
    "fig1, ax1 = plt.subplots()\n",
    "fig1.subplots_adjust(0.3,0,1,1)\n",
    "explode = (0.9, 0, 0, 0)\n",
    "ax1.pie(sizes, explode=explode, labels=labels, autopct='%1.1f%%',\n",
    "        shadow=True, startangle=900, radius=200)\n",
    "ax1.axis('equal') \n",
    "plt.show()"
   ]
  },
  {
   "cell_type": "markdown",
   "metadata": {},
   "source": [
    "###### As we see here, Politics news has the longest story on an average followed by technology and business respectively."
   ]
  },
  {
   "cell_type": "markdown",
   "metadata": {},
   "source": [
    "## Converting all strings to lowercase"
   ]
  },
  {
   "cell_type": "code",
   "execution_count": 16,
   "metadata": {},
   "outputs": [],
   "source": [
    "df['STORY']=df['STORY'].str.lower()"
   ]
  },
  {
   "cell_type": "code",
   "execution_count": 17,
   "metadata": {
    "scrolled": true
   },
   "outputs": [
    {
     "data": {
      "text/plain": [
       "0    the roadshow and the filing of nomination pape...\n",
       "1    these vulnerabilities could have allowed hacke...\n",
       "2    \"people will now be able to include music in t...\n",
       "3    jersey is expected to have a good start at the...\n",
       "4    xiaomi’s unveiling also hints at how samsung i...\n",
       "Name: STORY, dtype: object"
      ]
     },
     "execution_count": 17,
     "metadata": {},
     "output_type": "execute_result"
    }
   ],
   "source": [
    "df['STORY'].head()"
   ]
  },
  {
   "cell_type": "markdown",
   "metadata": {},
   "source": [
    "The idea behind converting all string to lower case is, in NLP words with capital letters hold different weightage to all lower case. Which overall makes your NLP model less effective or inaccurate"
   ]
  },
  {
   "cell_type": "markdown",
   "metadata": {},
   "source": [
    "## Checking if there are any Numeric values"
   ]
  },
  {
   "cell_type": "code",
   "execution_count": 18,
   "metadata": {},
   "outputs": [
    {
     "data": {
      "text/plain": [
       "0"
      ]
     },
     "execution_count": 18,
     "metadata": {},
     "output_type": "execute_result"
    }
   ],
   "source": [
    "sum(df['STORY'].str.isnumeric())"
   ]
  },
  {
   "cell_type": "markdown",
   "metadata": {},
   "source": [
    "We checked if there are any numerical values, to filter it, because it does not contribute to the model\n",
    "***\n",
    "## Checking if there are any Punctuation Marks"
   ]
  },
  {
   "cell_type": "code",
   "execution_count": 19,
   "metadata": {},
   "outputs": [],
   "source": [
    "punctuation = '!\"#$%&\\'()*+,-./:;<=>?@[\\\\]^_`{|}~'\n",
    "df['P_count'] = df.STORY.map(lambda v: any(x in v for x in punctuation))"
   ]
  },
  {
   "cell_type": "code",
   "execution_count": 20,
   "metadata": {},
   "outputs": [
    {
     "data": {
      "text/plain": [
       "5983"
      ]
     },
     "execution_count": 20,
     "metadata": {},
     "output_type": "execute_result"
    }
   ],
   "source": [
    "sum(df['P_count'])"
   ]
  },
  {
   "cell_type": "markdown",
   "metadata": {},
   "source": [
    "Out of 6102 records, 5982 records have punctuation marks. Its recommended to remove punctuation marks in order to improve efficiency of the model"
   ]
  },
  {
   "cell_type": "code",
   "execution_count": 21,
   "metadata": {},
   "outputs": [],
   "source": [
    "def remove_punctuations(text):\n",
    "    for punctuation in string.punctuation:\n",
    "        text = text.replace(punctuation, '')\n",
    "    return text\n",
    "df[\"STORY\"] = df['STORY'].apply(remove_punctuations)\n",
    "df['STORY'] = df['STORY'].str.replace('[^\\w\\s]','')"
   ]
  },
  {
   "cell_type": "code",
   "execution_count": 22,
   "metadata": {},
   "outputs": [
    {
     "data": {
      "text/plain": [
       "0       the roadshow and the filing of nomination pape...\n",
       "1       these vulnerabilities could have allowed hacke...\n",
       "2       people will now be able to include music in th...\n",
       "3       jersey is expected to have a good start at the...\n",
       "4       xiaomis unveiling also hints at how samsung is...\n",
       "                              ...                        \n",
       "6097    based on the video game franchise of the same ...\n",
       "6098    the seven states have been neglected for decad...\n",
       "6099    shanthnu made the announcement on twitter and ...\n",
       "6100    the rock and jason statham reprise their roles...\n",
       "6101    but unlike past developments that never caught...\n",
       "Name: STORY, Length: 6102, dtype: object"
      ]
     },
     "execution_count": 22,
     "metadata": {},
     "output_type": "execute_result"
    }
   ],
   "source": [
    "df[\"STORY\"]"
   ]
  },
  {
   "cell_type": "markdown",
   "metadata": {},
   "source": [
    "##### Final Check"
   ]
  },
  {
   "cell_type": "code",
   "execution_count": 23,
   "metadata": {},
   "outputs": [
    {
     "data": {
      "text/plain": [
       "0"
      ]
     },
     "execution_count": 23,
     "metadata": {},
     "output_type": "execute_result"
    }
   ],
   "source": [
    "punctuation = '!\"#$%&\\'()*+,-./:;<=>?@[\\\\]^_`{|}~'\n",
    "df['P_count'] = df.STORY.map(lambda x: any(char in x for char in punctuation))\n",
    "sum(df['P_count'])"
   ]
  },
  {
   "cell_type": "markdown",
   "metadata": {},
   "source": [
    "***\n",
    "## Remove whitespaces"
   ]
  },
  {
   "cell_type": "code",
   "execution_count": 24,
   "metadata": {},
   "outputs": [],
   "source": [
    "df[\"STORY\"] = df['STORY'].str.strip()"
   ]
  },
  {
   "cell_type": "code",
   "execution_count": 25,
   "metadata": {},
   "outputs": [
    {
     "data": {
      "text/plain": [
       "0       the roadshow and the filing of nomination pape...\n",
       "1       these vulnerabilities could have allowed hacke...\n",
       "2       people will now be able to include music in th...\n",
       "3       jersey is expected to have a good start at the...\n",
       "4       xiaomis unveiling also hints at how samsung is...\n",
       "                              ...                        \n",
       "6097    based on the video game franchise of the same ...\n",
       "6098    the seven states have been neglected for decad...\n",
       "6099    shanthnu made the announcement on twitter and ...\n",
       "6100    the rock and jason statham reprise their roles...\n",
       "6101    but unlike past developments that never caught...\n",
       "Name: STORY, Length: 6102, dtype: object"
      ]
     },
     "execution_count": 25,
     "metadata": {},
     "output_type": "execute_result"
    }
   ],
   "source": [
    "df[\"STORY\"]"
   ]
  },
  {
   "cell_type": "markdown",
   "metadata": {},
   "source": [
    "***\n",
    "## Removing Stop Words\n",
    "Stop words like \"the\", \"and\", \"a\" and many more make it difficult for the algorithmn to understand, hence it is better if it is suggested to remove these words and make records more meaningful"
   ]
  },
  {
   "cell_type": "code",
   "execution_count": 26,
   "metadata": {},
   "outputs": [
    {
     "name": "stderr",
     "output_type": "stream",
     "text": [
      "[nltk_data] Downloading package stopwords to\n",
      "[nltk_data]     /Users/saurabhkolambkar/nltk_data...\n",
      "[nltk_data]   Package stopwords is already up-to-date!\n"
     ]
    },
    {
     "data": {
      "text/plain": [
       "True"
      ]
     },
     "execution_count": 26,
     "metadata": {},
     "output_type": "execute_result"
    }
   ],
   "source": [
    "import nltk\n",
    "nltk.download('stopwords')"
   ]
  },
  {
   "cell_type": "code",
   "execution_count": 27,
   "metadata": {},
   "outputs": [
    {
     "name": "stdout",
     "output_type": "stream",
     "text": [
      "['i', 'me', 'my', 'myself', 'we', 'our', 'ours', 'ourselves', 'you', \"you're\", \"you've\", \"you'll\", \"you'd\", 'your', 'yours', 'yourself', 'yourselves', 'he', 'him', 'his', 'himself', 'she', \"she's\", 'her', 'hers', 'herself', 'it', \"it's\", 'its', 'itself', 'they', 'them', 'their', 'theirs', 'themselves', 'what', 'which', 'who', 'whom', 'this', 'that', \"that'll\", 'these', 'those', 'am', 'is', 'are', 'was', 'were', 'be', 'been', 'being', 'have', 'has', 'had', 'having', 'do', 'does', 'did', 'doing', 'a', 'an', 'the', 'and', 'but', 'if', 'or', 'because', 'as', 'until', 'while', 'of', 'at', 'by', 'for', 'with', 'about', 'against', 'between', 'into', 'through', 'during', 'before', 'after', 'above', 'below', 'to', 'from', 'up', 'down', 'in', 'out', 'on', 'off', 'over', 'under', 'again', 'further', 'then', 'once', 'here', 'there', 'when', 'where', 'why', 'how', 'all', 'any', 'both', 'each', 'few', 'more', 'most', 'other', 'some', 'such', 'no', 'nor', 'not', 'only', 'own', 'same', 'so', 'than', 'too', 'very', 's', 't', 'can', 'will', 'just', 'don', \"don't\", 'should', \"should've\", 'now', 'd', 'll', 'm', 'o', 're', 've', 'y', 'ain', 'aren', \"aren't\", 'couldn', \"couldn't\", 'didn', \"didn't\", 'doesn', \"doesn't\", 'hadn', \"hadn't\", 'hasn', \"hasn't\", 'haven', \"haven't\", 'isn', \"isn't\", 'ma', 'mightn', \"mightn't\", 'mustn', \"mustn't\", 'needn', \"needn't\", 'shan', \"shan't\", 'shouldn', \"shouldn't\", 'wasn', \"wasn't\", 'weren', \"weren't\", 'won', \"won't\", 'wouldn', \"wouldn't\"]\n"
     ]
    }
   ],
   "source": [
    "stop_words = stopwords.words('english')\n",
    "print(stop_words)"
   ]
  },
  {
   "cell_type": "code",
   "execution_count": 28,
   "metadata": {},
   "outputs": [
    {
     "data": {
      "text/plain": [
       "0       roadshow filing nomination papers also attempt...\n",
       "1       vulnerabilities could allowed hackers access s...\n",
       "2       people able include music videos facebook inst...\n",
       "3       jersey expected good start box office attentio...\n",
       "4       xiaomis unveiling also hints samsung starting ...\n",
       "                              ...                        \n",
       "6097    based video game franchise name sonic hedgehog...\n",
       "6098    seven states neglected decades sends onetwo me...\n",
       "6099    shanthnu made announcement twitter shared pict...\n",
       "6100    rock jason statham reprise roles fast furious ...\n",
       "6101    unlike past developments never caught 3d tvs a...\n",
       "Name: STORY, Length: 6102, dtype: object"
      ]
     },
     "execution_count": 28,
     "metadata": {},
     "output_type": "execute_result"
    }
   ],
   "source": [
    "df['STORY'] = df['STORY'].apply(lambda s: \" \".join(s for s in s.split() if s not in stop_words)) \n",
    "df['STORY']"
   ]
  },
  {
   "cell_type": "markdown",
   "metadata": {},
   "source": [
    "***\n",
    "## Sometimes stop words aren't enough to clean data. So it would be better to remove extremely rare and common words\n"
   ]
  },
  {
   "cell_type": "code",
   "execution_count": 29,
   "metadata": {},
   "outputs": [
    {
     "data": {
      "text/plain": [
       "[('said', 2880),\n",
       " ('also', 2132),\n",
       " ('new', 1563),\n",
       " ('india', 1455),\n",
       " ('congress', 1340),\n",
       " ('bjp', 1244),\n",
       " ('one', 1190),\n",
       " ('party', 1128),\n",
       " ('year', 1097),\n",
       " ('like', 1087),\n",
       " ('people', 1012),\n",
       " ('would', 967),\n",
       " ('last', 923),\n",
       " ('first', 920),\n",
       " ('two', 910),\n",
       " ('us', 888),\n",
       " ('time', 882),\n",
       " ('data', 844),\n",
       " ('users', 838),\n",
       " ('elections', 807),\n",
       " ('smartphone', 773),\n",
       " ('government', 762),\n",
       " ('minister', 752),\n",
       " ('modi', 741),\n",
       " ('market', 738),\n",
       " ('may', 707),\n",
       " ('even', 689),\n",
       " ('company', 680),\n",
       " ('lok', 663),\n",
       " ('sabha', 663),\n",
       " ('state', 662),\n",
       " ('years', 630),\n",
       " ('apple', 625),\n",
       " ('film', 621),\n",
       " ('seats', 608),\n",
       " ('according', 603),\n",
       " ('million', 579),\n",
       " ('election', 575),\n",
       " ('three', 565),\n",
       " ('could', 557),\n",
       " ('since', 548),\n",
       " ('app', 542),\n",
       " ('facebook', 534),\n",
       " ('political', 533),\n",
       " ('back', 531),\n",
       " ('chief', 526),\n",
       " ('indian', 526),\n",
       " ('google', 520),\n",
       " ('made', 507),\n",
       " ('pro', 503)]"
      ]
     },
     "execution_count": 29,
     "metadata": {},
     "output_type": "execute_result"
    }
   ],
   "source": [
    "from collections import Counter\n",
    "Counter(\" \".join(df[\"STORY\"]).split()).most_common(50)"
   ]
  },
  {
   "cell_type": "code",
   "execution_count": 30,
   "metadata": {},
   "outputs": [
    {
     "data": {
      "text/plain": [
       "0       roadshow filing nomination papers attempt show...\n",
       "1       vulnerabilities could allowed hackers access s...\n",
       "2       people able include music videos facebook inst...\n",
       "3       jersey expected good start box office attentio...\n",
       "4       xiaomis unveiling hints samsung starting lose ...\n",
       "                              ...                        \n",
       "6097    based video game franchise name sonic hedgehog...\n",
       "6098    seven states neglected decades sends onetwo me...\n",
       "6099    shanthnu made announcement twitter shared pict...\n",
       "6100    rock jason statham reprise roles fast furious ...\n",
       "6101    unlike past developments never caught 3d tvs a...\n",
       "Name: STORY, Length: 6102, dtype: object"
      ]
     },
     "execution_count": 30,
     "metadata": {},
     "output_type": "execute_result"
    }
   ],
   "source": [
    "selected_words = ['said','also','new','like','u','say']\n",
    "df['STORY'] = df['STORY'].apply(lambda x: \" \".join(x for x in x.split() if x not in selected_words)) \n",
    "df['STORY']"
   ]
  },
  {
   "cell_type": "code",
   "execution_count": 31,
   "metadata": {},
   "outputs": [
    {
     "data": {
      "text/plain": [
       "5647332            1\n",
       "fatehi             1\n",
       "1297               1\n",
       "mithi              1\n",
       "bambas             1\n",
       "kandasamy          1\n",
       "nitesh             1\n",
       "tacitly            1\n",
       "dayma              1\n",
       "sonipurnima        1\n",
       "adan               1\n",
       "discerning         1\n",
       "reconfigurable     1\n",
       "bnps               1\n",
       "tomboyish          1\n",
       "8000090000         1\n",
       "elopement          1\n",
       "teale              1\n",
       "7646               1\n",
       "numberswhatsapp    1\n",
       "jps                1\n",
       "connectors         1\n",
       "fuzzier            1\n",
       "lokpal             1\n",
       "microstrategist    1\n",
       "aashwasana         1\n",
       "hewlettpackard     1\n",
       "jerseymehandi      1\n",
       "westeross          1\n",
       "001mm              1\n",
       "macedonia          1\n",
       "tejananthkumar     1\n",
       "whisper            1\n",
       "142                1\n",
       "jerseymy           1\n",
       "nadella            1\n",
       "motioncontrol      1\n",
       "1408               1\n",
       "jayantsinha        1\n",
       "bharatbharat       1\n",
       "khaleda            1\n",
       "collectives        1\n",
       "mash               1\n",
       "characteri         1\n",
       "intergalactic      1\n",
       "aiyaary            1\n",
       "renewables         1\n",
       "parikh             1\n",
       "sarania            1\n",
       "casterelated       1\n",
       "dtype: int64"
      ]
     },
     "execution_count": 31,
     "metadata": {},
     "output_type": "execute_result"
    }
   ],
   "source": [
    "low_count = pd.Series(' '.join(df['STORY']).split()).value_counts()[-50:]\n",
    "low_count"
   ]
  },
  {
   "cell_type": "code",
   "execution_count": 32,
   "metadata": {},
   "outputs": [
    {
     "data": {
      "text/plain": [
       "0       roadshow filing nomination papers attempt show...\n",
       "1       vulnerabilities could allowed hackers access s...\n",
       "2       people able include music videos facebook inst...\n",
       "3       jersey expected good start box office attentio...\n",
       "4       xiaomis unveiling hints samsung starting lose ...\n",
       "                              ...                        \n",
       "6097    based video game franchise name sonic hedgehog...\n",
       "6098    seven states neglected decades sends onetwo me...\n",
       "6099    shanthnu made announcement twitter shared pict...\n",
       "6100    rock jason statham reprise roles fast furious ...\n",
       "6101    unlike past developments never caught 3d tvs a...\n",
       "Name: STORY, Length: 6102, dtype: object"
      ]
     },
     "execution_count": 32,
     "metadata": {},
     "output_type": "execute_result"
    }
   ],
   "source": [
    "selected_words = low_count\n",
    "df['STORY'] = df['STORY'].apply(lambda x: \" \".join(x for x in x.split() if x not in selected_words)) \n",
    "df['STORY']"
   ]
  },
  {
   "cell_type": "markdown",
   "metadata": {},
   "source": [
    "## Lemmatization Using lemminflect"
   ]
  },
  {
   "cell_type": "code",
   "execution_count": 33,
   "metadata": {},
   "outputs": [
    {
     "data": {
      "text/plain": [
       "0       roadshow filing nomination paper attempt show ...\n",
       "1       vulnerability could allowed hacker access sens...\n",
       "2       people able include music video facebook insta...\n",
       "3       jersey expected good start box office attentio...\n",
       "4       xiaomis unveiling hint samsung starting lose p...\n",
       "                              ...                        \n",
       "6097    based video game franchise name sonic hedgehog...\n",
       "6098    seven state neglected decade sends onetwo memb...\n",
       "6099    shanthnu made announcement twitter shared pict...\n",
       "6100    rock jason statham reprise role fast furious f...\n",
       "6101    unlike past development never caught 3d tv ana...\n",
       "Name: STORY, Length: 6102, dtype: object"
      ]
     },
     "execution_count": 33,
     "metadata": {},
     "output_type": "execute_result"
    }
   ],
   "source": [
    "from textblob import Word\n",
    "from lemminflect import getLemma\n",
    "df['STORY'] = df['STORY'].apply(lambda x: \" \".join([Word(getLemma).lemmatize() for getLemma in x.split()]))\n",
    "df['STORY']"
   ]
  },
  {
   "cell_type": "markdown",
   "metadata": {},
   "source": [
    "#### If you want to check the 2nd record which changed vulnerabilities  to vulnerability"
   ]
  },
  {
   "cell_type": "markdown",
   "metadata": {},
   "source": [
    "## Tokenization"
   ]
  },
  {
   "cell_type": "code",
   "execution_count": 34,
   "metadata": {},
   "outputs": [
    {
     "name": "stdout",
     "output_type": "stream",
     "text": [
      "['Producer Dil Raju and director Mohana Krishna Indraganti on Monday announced the title of their upcoming movie\\n\\n\\n Interestingly, Sudheer and Aditi earlier shared screen space in Mohana Krishna Indraganti’s Sammohanam, while Nivetha Thomas made her Telugu screen debut with the director’s 2016 film Gentleman\\n\\n\\nAsking fans to “except the unexpected”, Sudheer posted on Twitter, “V are coming back and this time with an action thriller']\n"
     ]
    }
   ],
   "source": [
    "final = df_predict['STORY']\n",
    "for i in final:\n",
    "    w = nltk.sent_tokenize(i)\n",
    "print(w)"
   ]
  },
  {
   "cell_type": "markdown",
   "metadata": {},
   "source": [
    "## Vectorization"
   ]
  },
  {
   "cell_type": "code",
   "execution_count": 35,
   "metadata": {},
   "outputs": [],
   "source": [
    "tf_vec = TfidfVectorizer(ngram_range=(1,2)) "
   ]
  },
  {
   "cell_type": "code",
   "execution_count": 36,
   "metadata": {},
   "outputs": [],
   "source": [
    "news_train = tf_vec.fit_transform(df.STORY).toarray()"
   ]
  },
  {
   "cell_type": "code",
   "execution_count": 37,
   "metadata": {},
   "outputs": [
    {
     "data": {
      "text/plain": [
       "array([[0., 0., 0., ..., 0., 0., 0.],\n",
       "       [0., 0., 0., ..., 0., 0., 0.],\n",
       "       [0., 0., 0., ..., 0., 0., 0.],\n",
       "       ...,\n",
       "       [0., 0., 0., ..., 0., 0., 0.],\n",
       "       [0., 0., 0., ..., 0., 0., 0.],\n",
       "       [0., 0., 0., ..., 0., 0., 0.]])"
      ]
     },
     "execution_count": 37,
     "metadata": {},
     "output_type": "execute_result"
    }
   ],
   "source": [
    "news_train"
   ]
  },
  {
   "cell_type": "code",
   "execution_count": 38,
   "metadata": {},
   "outputs": [],
   "source": [
    "story_df = df_predict['STORY']\n",
    "news_pred = tf_vec.fit_transform(story_df).toarray()"
   ]
  },
  {
   "cell_type": "code",
   "execution_count": 39,
   "metadata": {},
   "outputs": [
    {
     "data": {
      "text/plain": [
       "array([[0., 0., 0., ..., 0., 0., 0.],\n",
       "       [0., 0., 0., ..., 0., 0., 0.],\n",
       "       [0., 0., 0., ..., 0., 0., 0.],\n",
       "       ...,\n",
       "       [0., 0., 0., ..., 0., 0., 0.],\n",
       "       [0., 0., 0., ..., 0., 0., 0.],\n",
       "       [0., 0., 0., ..., 0., 0., 0.]])"
      ]
     },
     "execution_count": 39,
     "metadata": {},
     "output_type": "execute_result"
    }
   ],
   "source": [
    "news_pred"
   ]
  },
  {
   "cell_type": "markdown",
   "metadata": {},
   "source": [
    "***\n",
    "## Model Building"
   ]
  },
  {
   "cell_type": "code",
   "execution_count": 40,
   "metadata": {},
   "outputs": [],
   "source": [
    "X = df['STORY']\n",
    "y = df['SECTION']"
   ]
  },
  {
   "cell_type": "code",
   "execution_count": 41,
   "metadata": {},
   "outputs": [],
   "source": [
    "X_train , X_test ,y_train , y_test = train_test_split(X, y ,test_size = 0.2 ,random_state = 0) "
   ]
  },
  {
   "cell_type": "code",
   "execution_count": 42,
   "metadata": {},
   "outputs": [],
   "source": [
    "ct_vec = CountVectorizer()\n",
    "tf_idf_tr = TfidfTransformer()"
   ]
  },
  {
   "cell_type": "code",
   "execution_count": 43,
   "metadata": {},
   "outputs": [],
   "source": [
    "news_vec = ct_vec.fit_transform(X_train)\n",
    "X_train_tf = tf_idf_tr.fit_transform(news_vec)\n",
    "# X_test_tf = ct_vec.transform(X_train_tf)"
   ]
  },
  {
   "cell_type": "markdown",
   "metadata": {},
   "source": [
    "## Logistic Regression"
   ]
  },
  {
   "cell_type": "code",
   "execution_count": 71,
   "metadata": {},
   "outputs": [],
   "source": [
    "lr = LogisticRegression(random_state=100)\n",
    "lr.fit(X_train_tf,y_train)\n",
    "lr_xtest_pred = ct_vec.transform(X_test)\n",
    "lr_ytest_pred = lr.predict(lr_xtest_pred)\n",
    "lr_xtrain_pred = ct_vec.transform(X_train)\n",
    "lr_ytrain_pred = lr.predict(lr_xtrain_pred)"
   ]
  },
  {
   "cell_type": "code",
   "execution_count": 45,
   "metadata": {},
   "outputs": [
    {
     "data": {
      "text/plain": [
       "array([1, 0, 1, ..., 2, 2, 1])"
      ]
     },
     "execution_count": 45,
     "metadata": {},
     "output_type": "execute_result"
    }
   ],
   "source": [
    "lr_ytest_pred"
   ]
  },
  {
   "cell_type": "code",
   "execution_count": 74,
   "metadata": {},
   "outputs": [
    {
     "name": "stdout",
     "output_type": "stream",
     "text": [
      "Report:\n",
      "               precision    recall  f1-score   support\n",
      "\n",
      "           0       0.95      0.98      0.96       290\n",
      "           1       0.95      0.96      0.96       432\n",
      "           2       0.99      0.90      0.94       294\n",
      "           3       0.93      0.98      0.96       205\n",
      "\n",
      "    accuracy                           0.96      1221\n",
      "   macro avg       0.96      0.96      0.96      1221\n",
      "weighted avg       0.96      0.96      0.96      1221\n",
      "\n",
      "Confustion Matrix:\n",
      " [[285   2   1   2]\n",
      " [  7 416   1   8]\n",
      " [  9  16 265   4]\n",
      " [  0   4   0 201]]\n",
      "\n",
      "Cross Validation: 0.9370453791887204\n",
      "Accuracy:  95.57739557739558 %\n",
      "The Training data f1 Score is 0.9727514853513625\n",
      "The Testing data f1 Score is 0.9557739557739557\n",
      "Standard Deviation:  1.1979445008133258\n"
     ]
    }
   ],
   "source": [
    "print('Report:\\n',classification_report(y_test, lr_ytest_pred))\n",
    "print('Confustion Matrix:\\n',confusion_matrix(y_test,lr_ytest_pred))\n",
    "lr_score = cross_val_score(lr, lr_xtest_pred, lr_ytest_pred, cv=5, scoring='f1_macro')\n",
    "print('\\nCross Validation:', lr_score.mean())\n",
    "print(\"Accuracy: \", accuracy_score(y_test,lr_ytest_pred)*100,\"%\")\n",
    "print('The Training data f1 Score is', f1_score(lr_ytrain_pred, y_train,average='micro'))\n",
    "print('The Testing data f1 Score is', f1_score(lr_ytest_pred, y_test,average='micro'))\n",
    "print(\"Standard Deviation: \",np.std(lr_score)*100)"
   ]
  },
  {
   "cell_type": "markdown",
   "metadata": {},
   "source": [
    "## Random Forest"
   ]
  },
  {
   "cell_type": "code",
   "execution_count": 47,
   "metadata": {},
   "outputs": [
    {
     "data": {
      "text/plain": [
       "RandomForestClassifier(bootstrap=True, class_weight=None, criterion='gini',\n",
       "                       max_depth=None, max_features='auto', max_leaf_nodes=None,\n",
       "                       min_impurity_decrease=0.0, min_impurity_split=None,\n",
       "                       min_samples_leaf=1, min_samples_split=2,\n",
       "                       min_weight_fraction_leaf=0.0, n_estimators=10, n_jobs=-1,\n",
       "                       oob_score=False, random_state=100, verbose=0,\n",
       "                       warm_start=False)"
      ]
     },
     "execution_count": 47,
     "metadata": {},
     "output_type": "execute_result"
    }
   ],
   "source": [
    "rfc = RandomForestClassifier(random_state = 100, n_jobs=-1)\n",
    "rfc.fit(X_train_tf,y_train)"
   ]
  },
  {
   "cell_type": "code",
   "execution_count": 75,
   "metadata": {},
   "outputs": [],
   "source": [
    "gs_xtest_pred = ct_vec.transform(X_test)\n",
    "gs_ytest_pred = rfc.predict(gs_xtest_pred)\n",
    "gs_xtrain_pred = ct_vec.transform(X_train)\n",
    "gs_ytrain_pred = rfc.predict(gs_xtrain_pred)"
   ]
  },
  {
   "cell_type": "code",
   "execution_count": 78,
   "metadata": {},
   "outputs": [
    {
     "name": "stdout",
     "output_type": "stream",
     "text": [
      "Report:\n",
      "               precision    recall  f1-score   support\n",
      "\n",
      "           0       0.94      0.93      0.94       290\n",
      "           1       0.90      0.94      0.92       432\n",
      "           2       0.91      0.92      0.92       294\n",
      "           3       0.91      0.83      0.87       205\n",
      "\n",
      "    accuracy                           0.91      1221\n",
      "   macro avg       0.92      0.90      0.91      1221\n",
      "weighted avg       0.91      0.91      0.91      1221\n",
      "\n",
      "Confustion Matrix:\n",
      " [[270   8  11   1]\n",
      " [  5 404  10  13]\n",
      " [  9  13 270   2]\n",
      " [  3  26   5 171]]\n",
      "\n",
      "Cross Validation: 0.846451472097949\n",
      "Accuracy:  91.31859131859132 %\n",
      "The Training data f1 Score is 0.9889366933005531\n",
      "The Testing data f1 Score is 0.9131859131859131\n",
      "Standard Deviation:  1.8156849184615698\n"
     ]
    }
   ],
   "source": [
    "print('Report:\\n',classification_report(y_test, gs_ytest_pred))\n",
    "print('Confustion Matrix:\\n',confusion_matrix(y_test,gs_ytest_pred))\n",
    "gs_score = cross_val_score(rfc, gs_xtest_pred, gs_ytest_pred, cv=5, scoring='f1_macro')\n",
    "print('\\nCross Validation:', gs_score.mean())\n",
    "print(\"Accuracy: \", accuracy_score(y_test,gs_ytest_pred)*100,\"%\")\n",
    "print('The Training data f1 Score is', f1_score(gs_ytrain_pred, y_train,average='micro'))\n",
    "print('The Testing data f1 Score is', f1_score(gs_ytest_pred, y_test,average='micro'))\n",
    "print(\"Standard Deviation: \",np.std(gs_score)*100)"
   ]
  },
  {
   "cell_type": "markdown",
   "metadata": {},
   "source": [
    "## SVM"
   ]
  },
  {
   "cell_type": "code",
   "execution_count": 79,
   "metadata": {},
   "outputs": [],
   "source": [
    "svm = LinearSVC()\n",
    "svm.fit(X_train_tf,y_train)\n",
    "svm_xtest_pred = ct_vec.transform(X_test)\n",
    "svm_ytest_pred = svm.predict(svm_xtest_pred)\n",
    "svm_xtrain_pred = ct_vec.transform(X_train)\n",
    "svm_ytrain_pred = svm.predict(svm_xtrain_pred)"
   ]
  },
  {
   "cell_type": "code",
   "execution_count": 80,
   "metadata": {},
   "outputs": [
    {
     "data": {
      "text/plain": [
       "array([1, 0, 1, ..., 2, 2, 1])"
      ]
     },
     "execution_count": 80,
     "metadata": {},
     "output_type": "execute_result"
    }
   ],
   "source": [
    "svm_ytest_pred"
   ]
  },
  {
   "cell_type": "code",
   "execution_count": 81,
   "metadata": {},
   "outputs": [
    {
     "name": "stdout",
     "output_type": "stream",
     "text": [
      "Report:\n",
      "               precision    recall  f1-score   support\n",
      "\n",
      "           0       0.95      0.98      0.97       290\n",
      "           1       0.95      0.97      0.96       432\n",
      "           2       1.00      0.90      0.95       294\n",
      "           3       0.93      0.97      0.95       205\n",
      "\n",
      "    accuracy                           0.96      1221\n",
      "   macro avg       0.96      0.96      0.96      1221\n",
      "weighted avg       0.96      0.96      0.96      1221\n",
      "\n",
      "Confustion Matrix:\n",
      " [[284   2   1   3]\n",
      " [  6 419   0   7]\n",
      " [  8  15 266   5]\n",
      " [  0   6   0 199]]\n",
      "Cross Validation: 0.9304741367193639\n",
      "\n",
      " Accuracy:  95.65929565929567 %\n",
      "\n",
      "The Training data f1 Score is 0.9934439664003278\n",
      "\n",
      "The Testing data f1 Score is 0.9565929565929566\n",
      "\n",
      "Standard Deviation:  1.3246770780861998\n"
     ]
    }
   ],
   "source": [
    "print('Report:\\n',classification_report(y_test, svm_ytest_pred))\n",
    "print('Confustion Matrix:\\n',confusion_matrix(y_test,svm_ytest_pred))\n",
    "svm_score = cross_val_score(svm, svm_xtest_pred, svm_ytest_pred, cv=5, scoring='f1_macro')\n",
    "print('Cross Validation:', svm_score.mean())\n",
    "print(\"\\n Accuracy: \", accuracy_score(y_test,svm_ytest_pred)*100,\"%\")\n",
    "print('\\nThe Training data f1 Score is', f1_score(svm_ytrain_pred, y_train,average='micro'))\n",
    "print('\\nThe Testing data f1 Score is', f1_score(svm_ytest_pred, y_test,average='micro'))\n",
    "print(\"\\nStandard Deviation: \",np.std(svm_score)*100)"
   ]
  },
  {
   "cell_type": "markdown",
   "metadata": {},
   "source": [
    "## KNN"
   ]
  },
  {
   "cell_type": "code",
   "execution_count": 82,
   "metadata": {},
   "outputs": [],
   "source": [
    "knn = KNeighborsClassifier()\n",
    "knn.fit(X_train_tf,y_train)\n",
    "knn_xtest_pred = ct_vec.transform(X_test)\n",
    "knn_ytest_pred = knn.predict(knn_xtest_pred)\n",
    "knn_xtrain_pred = ct_vec.transform(X_train)\n",
    "knn_ytrain_pred = knn.predict(knn_xtrain_pred)"
   ]
  },
  {
   "cell_type": "code",
   "execution_count": 83,
   "metadata": {},
   "outputs": [
    {
     "data": {
      "text/plain": [
       "array([1, 0, 1, ..., 2, 2, 1])"
      ]
     },
     "execution_count": 83,
     "metadata": {},
     "output_type": "execute_result"
    }
   ],
   "source": [
    "knn_ytest_pred"
   ]
  },
  {
   "cell_type": "code",
   "execution_count": 84,
   "metadata": {},
   "outputs": [
    {
     "name": "stdout",
     "output_type": "stream",
     "text": [
      "Report:\n",
      "               precision    recall  f1-score   support\n",
      "\n",
      "           0       0.91      0.96      0.93       290\n",
      "           1       0.91      0.96      0.94       432\n",
      "           2       0.99      0.88      0.93       294\n",
      "           3       0.95      0.92      0.93       205\n",
      "\n",
      "    accuracy                           0.93      1221\n",
      "   macro avg       0.94      0.93      0.93      1221\n",
      "weighted avg       0.94      0.93      0.93      1221\n",
      "\n",
      "Confustion Matrix:\n",
      " [[278   9   1   2]\n",
      " [ 11 414   2   5]\n",
      " [ 16  15 260   3]\n",
      " [  2  15   0 188]]\n",
      "Cross Validation: 0.5225042344145517\n",
      "\n",
      " Accuracy:  93.36609336609337 %\n",
      "\n",
      "The Training data f1 Score is 0.9586150379020693\n",
      "\n",
      "The Testing data f1 Score is 0.9336609336609336\n",
      "\n",
      "Standard Deviation:  2.805322688679803\n"
     ]
    }
   ],
   "source": [
    "print('Report:\\n',classification_report(y_test, knn_ytest_pred))\n",
    "print('Confustion Matrix:\\n',confusion_matrix(y_test,knn_ytest_pred))\n",
    "knn_score = cross_val_score(knn, knn_xtest_pred, knn_ytest_pred, cv=5, scoring='f1_macro')\n",
    "print('Cross Validation:', knn_score.mean())\n",
    "print(\"\\n Accuracy: \", accuracy_score(y_test,knn_ytest_pred)*100,\"%\")\n",
    "print('\\nThe Training data f1 Score is', f1_score(knn_ytrain_pred, y_train,average='micro'))\n",
    "print('\\nThe Testing data f1 Score is', f1_score(knn_ytest_pred, y_test,average='micro'))\n",
    "print(\"\\nStandard Deviation: \",np.std(knn_score)*100)"
   ]
  },
  {
   "cell_type": "code",
   "execution_count": 89,
   "metadata": {},
   "outputs": [
    {
     "name": "stdout",
     "output_type": "stream",
     "text": [
      "Logistic Regression\n",
      "Accuracy:  95.57739557739558 %\n",
      "The Training data f1 Score is 0.9727514853513625\n",
      "The Testing data f1 Score is 0.9557739557739557\n",
      "Standard Deviation:  1.1979445008133258\n",
      "\n",
      "Random Forest\n",
      "Accuracy:  91.31859131859132 %\n",
      "The Training data f1 Score is 0.9889366933005531\n",
      "The Testing data f1 Score is 0.9131859131859131\n",
      "Standard Deviation:  1.8156849184615698\n",
      "\n",
      "SVM\n",
      "Accuracy:  95.65929565929567 %\n",
      "The Training data f1 Score is 0.9934439664003278\n",
      "The Testing data f1 Score is 0.9565929565929566\n",
      "Standard Deviation:  1.3246770780861998\n",
      "\n",
      "KNN\n",
      "Accuracy:  93.36609336609337 %\n",
      "The Training data f1 Score is 0.9586150379020693\n",
      "The Testing data f1 Score is 0.9336609336609336\n",
      "Standard Deviation:  2.805322688679803\n"
     ]
    }
   ],
   "source": [
    "print(\"Logistic Regression\")\n",
    "print(\"Accuracy: \", accuracy_score(y_test,lr_ytest_pred)*100,\"%\")\n",
    "print('The Training data f1 Score is', f1_score(lr_ytrain_pred, y_train,average='micro'))\n",
    "print('The Testing data f1 Score is', f1_score(lr_ytest_pred, y_test,average='micro'))\n",
    "print(\"Standard Deviation: \",np.std(lr_score)*100)\n",
    "print(\"\\nRandom Forest\")\n",
    "print(\"Accuracy: \", accuracy_score(y_test,gs_ytest_pred)*100,\"%\")\n",
    "print('The Training data f1 Score is', f1_score(gs_ytrain_pred, y_train,average='micro'))\n",
    "print('The Testing data f1 Score is', f1_score(gs_ytest_pred, y_test,average='micro'))\n",
    "print(\"Standard Deviation: \",np.std(gs_score)*100)\n",
    "print(\"\\nSVM\")\n",
    "print(\"Accuracy: \", accuracy_score(y_test,svm_ytest_pred)*100,\"%\")\n",
    "print('The Training data f1 Score is', f1_score(svm_ytrain_pred, y_train,average='micro'))\n",
    "print('The Testing data f1 Score is', f1_score(svm_ytest_pred, y_test,average='micro'))\n",
    "print(\"Standard Deviation: \",np.std(svm_score)*100)\n",
    "print(\"\\nKNN\")\n",
    "print(\"Accuracy: \", accuracy_score(y_test,knn_ytest_pred)*100,\"%\")\n",
    "print('The Training data f1 Score is', f1_score(knn_ytrain_pred, y_train,average='micro'))\n",
    "print('The Testing data f1 Score is', f1_score(knn_ytest_pred, y_test,average='micro'))\n",
    "print(\"Standard Deviation: \",np.std(knn_score)*100)\n"
   ]
  },
  {
   "cell_type": "code",
   "execution_count": 58,
   "metadata": {},
   "outputs": [],
   "source": [
    "final_2 = ct_vec.transform(final)\n",
    "predictions = lr.predict(final_2)"
   ]
  },
  {
   "cell_type": "code",
   "execution_count": 59,
   "metadata": {},
   "outputs": [],
   "source": [
    "Solution= pd.DataFrame({'SECTION':predictions})"
   ]
  },
  {
   "cell_type": "code",
   "execution_count": 60,
   "metadata": {},
   "outputs": [],
   "source": [
    "Solution.to_csv('prediction.csv',index=False)"
   ]
  },
  {
   "cell_type": "code",
   "execution_count": 61,
   "metadata": {},
   "outputs": [
    {
     "data": {
      "text/plain": [
       "1526"
      ]
     },
     "execution_count": 61,
     "metadata": {},
     "output_type": "execute_result"
    }
   ],
   "source": [
    "len(Solution)"
   ]
  },
  {
   "cell_type": "code",
   "execution_count": null,
   "metadata": {},
   "outputs": [],
   "source": []
  }
 ],
 "metadata": {
  "kernelspec": {
   "display_name": "Python 3",
   "language": "python",
   "name": "python3"
  },
  "language_info": {
   "codemirror_mode": {
    "name": "ipython",
    "version": 3
   },
   "file_extension": ".py",
   "mimetype": "text/x-python",
   "name": "python",
   "nbconvert_exporter": "python",
   "pygments_lexer": "ipython3",
   "version": "3.7.4"
  }
 },
 "nbformat": 4,
 "nbformat_minor": 2
}
